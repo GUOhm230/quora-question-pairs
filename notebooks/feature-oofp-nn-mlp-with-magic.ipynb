{
 "cells": [
  {
   "cell_type": "markdown",
   "metadata": {},
   "source": [
    "# Feature: Out-Of-Fold Predictions from a Multi-Layer Perceptron (+Magic Inputs)"
   ]
  },
  {
   "cell_type": "markdown",
   "metadata": {},
   "source": [
    "In addition to the MLP architecture, we'll append some of the leaky features to the intermediate feature layer."
   ]
  },
  {
   "cell_type": "markdown",
   "metadata": {},
   "source": [
    "<img src=\"assets/mlp-with-magic.png\" alt=\"Network Architecture\" style=\"height: 900px;\" />"
   ]
  },
  {
   "cell_type": "markdown",
   "metadata": {},
   "source": [
    "## Imports"
   ]
  },
  {
   "cell_type": "markdown",
   "metadata": {},
   "source": [
    "This utility package imports `numpy`, `pandas`, `matplotlib` and a helper `kg` module into the root namespace."
   ]
  },
  {
   "cell_type": "code",
   "execution_count": 1,
   "metadata": {
    "collapsed": true
   },
   "outputs": [],
   "source": [
    "from pygoose import *"
   ]
  },
  {
   "cell_type": "code",
   "execution_count": 2,
   "metadata": {
    "collapsed": true
   },
   "outputs": [],
   "source": [
    "import gc"
   ]
  },
  {
   "cell_type": "code",
   "execution_count": 3,
   "metadata": {
    "collapsed": true
   },
   "outputs": [],
   "source": [
    "from sklearn.preprocessing import StandardScaler\n",
    "from sklearn.model_selection import StratifiedKFold\n",
    "from sklearn.metrics import *"
   ]
  },
  {
   "cell_type": "code",
   "execution_count": 5,
   "metadata": {},
   "outputs": [
    {
     "name": "stderr",
     "output_type": "stream",
     "text": [
      "Using TensorFlow backend.\n"
     ]
    }
   ],
   "source": [
    "from keras import backend as K\n",
    "from keras.models import Model, Sequential\n",
    "from keras.layers import *\n",
    "from keras.optimizers import *\n",
    "from keras.callbacks import EarlyStopping, ModelCheckpoint"
   ]
  },
  {
   "cell_type": "markdown",
   "metadata": {},
   "source": [
    "## Config"
   ]
  },
  {
   "cell_type": "markdown",
   "metadata": {},
   "source": [
    "Automatically discover the paths to various data folders and compose the project structure."
   ]
  },
  {
   "cell_type": "code",
   "execution_count": 6,
   "metadata": {
    "collapsed": true
   },
   "outputs": [],
   "source": [
    "project = kg.Project.discover()"
   ]
  },
  {
   "cell_type": "markdown",
   "metadata": {},
   "source": [
    "Identifier for storing these features on disk and referring to them later."
   ]
  },
  {
   "cell_type": "code",
   "execution_count": 7,
   "metadata": {
    "collapsed": true
   },
   "outputs": [],
   "source": [
    "feature_list_id = 'oofp_nn_mlp_with_magic'"
   ]
  },
  {
   "cell_type": "markdown",
   "metadata": {},
   "source": [
    "Make subsequent NN runs reproducible."
   ]
  },
  {
   "cell_type": "code",
   "execution_count": 8,
   "metadata": {
    "collapsed": true
   },
   "outputs": [],
   "source": [
    "RANDOM_SEED = 42"
   ]
  },
  {
   "cell_type": "code",
   "execution_count": 9,
   "metadata": {
    "collapsed": true
   },
   "outputs": [],
   "source": [
    "np.random.seed(RANDOM_SEED)"
   ]
  },
  {
   "cell_type": "markdown",
   "metadata": {},
   "source": [
    "## Read data"
   ]
  },
  {
   "cell_type": "markdown",
   "metadata": {},
   "source": [
    "Word embedding lookup matrix."
   ]
  },
  {
   "cell_type": "code",
   "execution_count": 10,
   "metadata": {
    "collapsed": true
   },
   "outputs": [],
   "source": [
    "embedding_matrix = kg.io.load(project.aux_dir + 'fasttext_vocab_embedding_matrix.pickle')"
   ]
  },
  {
   "cell_type": "markdown",
   "metadata": {},
   "source": [
    "Padded sequences of word indices for every question."
   ]
  },
  {
   "cell_type": "code",
   "execution_count": 11,
   "metadata": {
    "collapsed": true
   },
   "outputs": [],
   "source": [
    "X_train_q1 = kg.io.load(project.preprocessed_data_dir + 'sequences_q1_fasttext_train.pickle')\n",
    "X_train_q2 = kg.io.load(project.preprocessed_data_dir + 'sequences_q2_fasttext_train.pickle')"
   ]
  },
  {
   "cell_type": "code",
   "execution_count": 12,
   "metadata": {
    "collapsed": true
   },
   "outputs": [],
   "source": [
    "X_test_q1 = kg.io.load(project.preprocessed_data_dir + 'sequences_q1_fasttext_test.pickle')\n",
    "X_test_q2 = kg.io.load(project.preprocessed_data_dir + 'sequences_q2_fasttext_test.pickle')"
   ]
  },
  {
   "cell_type": "code",
   "execution_count": 13,
   "metadata": {
    "collapsed": true
   },
   "outputs": [],
   "source": [
    "y_train = kg.io.load(project.features_dir + 'y_train.pickle')"
   ]
  },
  {
   "cell_type": "markdown",
   "metadata": {},
   "source": [
    "Magic features."
   ]
  },
  {
   "cell_type": "code",
   "execution_count": 14,
   "metadata": {
    "collapsed": true
   },
   "outputs": [],
   "source": [
    "magic_feature_lists = [\n",
    "    'magic_frequencies',\n",
    "    'magic_cooccurrence_matrix',\n",
    "]"
   ]
  },
  {
   "cell_type": "code",
   "execution_count": 15,
   "metadata": {
    "collapsed": true
   },
   "outputs": [],
   "source": [
    "X_train_magic, X_test_magic, _ = project.load_feature_lists(magic_feature_lists)"
   ]
  },
  {
   "cell_type": "code",
   "execution_count": 16,
   "metadata": {
    "collapsed": true
   },
   "outputs": [],
   "source": [
    "X_train_magic = X_train_magic.values\n",
    "X_test_magic = X_test_magic.values"
   ]
  },
  {
   "cell_type": "code",
   "execution_count": 17,
   "metadata": {
    "collapsed": true
   },
   "outputs": [],
   "source": [
    "scaler = StandardScaler()\n",
    "scaler.fit(np.vstack([X_train_magic, X_test_magic]))\n",
    "X_train_magic = scaler.transform(X_train_magic)\n",
    "X_test_magic = scaler.transform(X_test_magic)"
   ]
  },
  {
   "cell_type": "markdown",
   "metadata": {},
   "source": [
    "Word embedding properties."
   ]
  },
  {
   "cell_type": "code",
   "execution_count": 18,
   "metadata": {
    "collapsed": true
   },
   "outputs": [],
   "source": [
    "EMBEDDING_DIM = embedding_matrix.shape[-1]\n",
    "VOCAB_LENGTH = embedding_matrix.shape[0]\n",
    "MAX_SEQUENCE_LENGTH = X_train_q1.shape[-1]"
   ]
  },
  {
   "cell_type": "code",
   "execution_count": 19,
   "metadata": {},
   "outputs": [
    {
     "name": "stdout",
     "output_type": "stream",
     "text": [
      "300 101564 30\n"
     ]
    }
   ],
   "source": [
    "print(EMBEDDING_DIM, VOCAB_LENGTH, MAX_SEQUENCE_LENGTH)"
   ]
  },
  {
   "cell_type": "markdown",
   "metadata": {},
   "source": [
    "## Define models"
   ]
  },
  {
   "cell_type": "code",
   "execution_count": 20,
   "metadata": {
    "collapsed": true
   },
   "outputs": [],
   "source": [
    "def create_model_question_branch():\n",
    "    input_q = Input(shape=(MAX_SEQUENCE_LENGTH,), dtype='int32')\n",
    "    \n",
    "    embedding_q = Embedding(\n",
    "        VOCAB_LENGTH,\n",
    "        EMBEDDING_DIM,\n",
    "        weights=[embedding_matrix],\n",
    "        input_length=MAX_SEQUENCE_LENGTH,\n",
    "        trainable=False,\n",
    "    )(input_q)\n",
    "\n",
    "    timedist_q = TimeDistributed(Dense(\n",
    "        EMBEDDING_DIM,\n",
    "        activation='relu',\n",
    "    ))(embedding_q)\n",
    "\n",
    "    lambda_q = Lambda(\n",
    "        lambda x: K.max(x, axis=1),\n",
    "        output_shape=(EMBEDDING_DIM, )\n",
    "    )(timedist_q)\n",
    "    \n",
    "    output_q = lambda_q\n",
    "    return input_q, output_q"
   ]
  },
  {
   "cell_type": "code",
   "execution_count": 21,
   "metadata": {
    "collapsed": true
   },
   "outputs": [],
   "source": [
    "def create_model(params):\n",
    "    q1_input, q1_output = create_model_question_branch()\n",
    "    q2_input, q2_output = create_model_question_branch()\n",
    "    magic_input = Input(shape=(X_train_magic.shape[-1], ))\n",
    "    \n",
    "    merged_inputs = concatenate([q1_output, q2_output, magic_input])\n",
    "\n",
    "    dense_1 = Dense(params['num_dense_1'])(merged_inputs)\n",
    "    bn_1 = BatchNormalization()(dense_1)\n",
    "    relu_1 = Activation('relu')(bn_1)\n",
    "\n",
    "    dense_2 = Dense(params['num_dense_2'])(relu_1)\n",
    "    bn_2 = BatchNormalization()(dense_2)\n",
    "    relu_2 = Activation('relu')(bn_2)\n",
    "\n",
    "    dense_3 = Dense(params['num_dense_3'])(relu_2)\n",
    "    bn_3 = BatchNormalization()(dense_3)\n",
    "    relu_3 = Activation('relu')(bn_3)\n",
    "\n",
    "    dense_4 = Dense(params['num_dense_4'])(relu_3)\n",
    "    bn_4 = BatchNormalization()(dense_4)\n",
    "    relu_4 = Activation('relu')(bn_4)\n",
    "\n",
    "    bn_final = BatchNormalization()(relu_4)\n",
    "    output = Dense(1, activation='sigmoid')(bn_final)\n",
    "    \n",
    "    model = Model(\n",
    "        inputs=[q1_input, q2_input, magic_input],\n",
    "        outputs=output,\n",
    "    )\n",
    "\n",
    "    model.compile(\n",
    "        loss='binary_crossentropy', \n",
    "        optimizer=Adam(lr=0.01),\n",
    "        metrics=['accuracy']\n",
    "    )\n",
    "\n",
    "    return model"
   ]
  },
  {
   "cell_type": "code",
   "execution_count": 22,
   "metadata": {
    "collapsed": true
   },
   "outputs": [],
   "source": [
    "def predict(model, X_q1, X_q2, X_magic):\n",
    "    \"\"\"\n",
    "    Mirror the pairs, compute two separate predictions, and average them.\n",
    "    \"\"\"\n",
    "    \n",
    "    y1 = model.predict([X_q1, X_q2, X_magic], batch_size=1024, verbose=1).reshape(-1)   \n",
    "    y2 = model.predict([X_q2, X_q1, X_magic], batch_size=1024, verbose=1).reshape(-1)    \n",
    "    return (y1 + y2) / 2"
   ]
  },
  {
   "cell_type": "markdown",
   "metadata": {},
   "source": [
    "## Partition the data"
   ]
  },
  {
   "cell_type": "code",
   "execution_count": 23,
   "metadata": {
    "collapsed": true
   },
   "outputs": [],
   "source": [
    "NUM_FOLDS = 5"
   ]
  },
  {
   "cell_type": "code",
   "execution_count": 24,
   "metadata": {
    "collapsed": true
   },
   "outputs": [],
   "source": [
    "kfold = StratifiedKFold(\n",
    "    n_splits=NUM_FOLDS,\n",
    "    shuffle=True,\n",
    "    random_state=RANDOM_SEED\n",
    ")"
   ]
  },
  {
   "cell_type": "markdown",
   "metadata": {},
   "source": [
    "Create placeholders for out-of-fold predictions."
   ]
  },
  {
   "cell_type": "code",
   "execution_count": 25,
   "metadata": {
    "collapsed": true
   },
   "outputs": [],
   "source": [
    "y_train_oofp = np.zeros_like(y_train, dtype='float64')"
   ]
  },
  {
   "cell_type": "code",
   "execution_count": 26,
   "metadata": {
    "collapsed": true
   },
   "outputs": [],
   "source": [
    "y_test_oofp = np.zeros((len(X_test_q1), NUM_FOLDS))"
   ]
  },
  {
   "cell_type": "markdown",
   "metadata": {},
   "source": [
    "## Define hyperparameters"
   ]
  },
  {
   "cell_type": "code",
   "execution_count": 27,
   "metadata": {
    "collapsed": true
   },
   "outputs": [],
   "source": [
    "BATCH_SIZE = 2048"
   ]
  },
  {
   "cell_type": "code",
   "execution_count": 28,
   "metadata": {
    "collapsed": true
   },
   "outputs": [],
   "source": [
    "MAX_EPOCHS = 200"
   ]
  },
  {
   "cell_type": "code",
   "execution_count": 29,
   "metadata": {
    "collapsed": true
   },
   "outputs": [],
   "source": [
    "model_params = {\n",
    "    'num_dense_1': 400,\n",
    "    'num_dense_2': 200,\n",
    "    'num_dense_3': 400,\n",
    "    'num_dense_4': 100,\n",
    "}"
   ]
  },
  {
   "cell_type": "markdown",
   "metadata": {},
   "source": [
    "The path where the best weights of the current model will be saved."
   ]
  },
  {
   "cell_type": "code",
   "execution_count": 30,
   "metadata": {
    "collapsed": true
   },
   "outputs": [],
   "source": [
    "model_checkpoint_path = project.temp_dir + 'fold-checkpoint-' + feature_list_id + '.h5'"
   ]
  },
  {
   "cell_type": "markdown",
   "metadata": {},
   "source": [
    "## Fit the folds and compute out-of-fold predictions"
   ]
  },
  {
   "cell_type": "code",
   "execution_count": 31,
   "metadata": {
    "scrolled": false
   },
   "outputs": [
    {
     "name": "stdout",
     "output_type": "stream",
     "text": [
      "\n",
      "Fitting fold 1 of 5\n",
      "\n",
      "Train on 646862 samples, validate on 161718 samples\n",
      "Epoch 1/200\n",
      "643072/646862 [============================>.] - ETA: 0s - loss: 0.3390 - acc: 0.8494Epoch 00000: val_loss improved from inf to 0.40987, saving model to /home/yuriyguts/Projects/kaggle-quora-question-pairs/data/tmp/fold-checkpoint-oofp_nn_mlp_with_magic.h5\n",
      "646862/646862 [==============================] - 17s - loss: 0.3388 - acc: 0.8495 - val_loss: 0.4099 - val_acc: 0.8459\n",
      "Epoch 2/200\n",
      "643072/646862 [============================>.] - ETA: 0s - loss: 0.2794 - acc: 0.8741Epoch 00001: val_loss improved from 0.40987 to 0.34372, saving model to /home/yuriyguts/Projects/kaggle-quora-question-pairs/data/tmp/fold-checkpoint-oofp_nn_mlp_with_magic.h5\n",
      "646862/646862 [==============================] - 15s - loss: 0.2794 - acc: 0.8742 - val_loss: 0.3437 - val_acc: 0.8561\n",
      "Epoch 3/200\n",
      "645120/646862 [============================>.] - ETA: 0s - loss: 0.2526 - acc: 0.8874Epoch 00002: val_loss improved from 0.34372 to 0.30076, saving model to /home/yuriyguts/Projects/kaggle-quora-question-pairs/data/tmp/fold-checkpoint-oofp_nn_mlp_with_magic.h5\n",
      "646862/646862 [==============================] - 15s - loss: 0.2526 - acc: 0.8875 - val_loss: 0.3008 - val_acc: 0.8641\n",
      "Epoch 4/200\n",
      "643072/646862 [============================>.] - ETA: 0s - loss: 0.2304 - acc: 0.8984Epoch 00003: val_loss improved from 0.30076 to 0.29949, saving model to /home/yuriyguts/Projects/kaggle-quora-question-pairs/data/tmp/fold-checkpoint-oofp_nn_mlp_with_magic.h5\n",
      "646862/646862 [==============================] - 16s - loss: 0.2305 - acc: 0.8984 - val_loss: 0.2995 - val_acc: 0.8694\n",
      "Epoch 5/200\n",
      "643072/646862 [============================>.] - ETA: 0s - loss: 0.2115 - acc: 0.9075Epoch 00004: val_loss did not improve\n",
      "646862/646862 [==============================] - 15s - loss: 0.2115 - acc: 0.9075 - val_loss: 0.3067 - val_acc: 0.8655\n",
      "Epoch 6/200\n",
      "643072/646862 [============================>.] - ETA: 0s - loss: 0.1938 - acc: 0.9160Epoch 00005: val_loss did not improve\n",
      "646862/646862 [==============================] - 14s - loss: 0.1938 - acc: 0.9159 - val_loss: 0.3285 - val_acc: 0.8687\n",
      "Epoch 7/200\n",
      "645120/646862 [============================>.] - ETA: 0s - loss: 0.1772 - acc: 0.9241Epoch 00006: val_loss did not improve\n",
      "646862/646862 [==============================] - 15s - loss: 0.1773 - acc: 0.9241 - val_loss: 0.3963 - val_acc: 0.8235\n",
      "Epoch 8/200\n",
      "645120/646862 [============================>.] - ETA: 0s - loss: 0.1625 - acc: 0.9306Epoch 00007: val_loss did not improve\n",
      "646862/646862 [==============================] - 15s - loss: 0.1625 - acc: 0.9306 - val_loss: 0.3367 - val_acc: 0.8573\n",
      "Epoch 00007: early stopping\n",
      "2341888/2345796 [============================>.] - ETA: 0s\n",
      "Fitting fold 2 of 5\n",
      "\n",
      "Train on 646862 samples, validate on 161718 samples\n",
      "Epoch 1/200\n",
      "645120/646862 [============================>.] - ETA: 0s - loss: 0.3408 - acc: 0.8499Epoch 00000: val_loss improved from inf to 0.47372, saving model to /home/yuriyguts/Projects/kaggle-quora-question-pairs/data/tmp/fold-checkpoint-oofp_nn_mlp_with_magic.h5\n",
      "646862/646862 [==============================] - 17s - loss: 0.3407 - acc: 0.8499 - val_loss: 0.4737 - val_acc: 0.8016\n",
      "Epoch 2/200\n",
      "645120/646862 [============================>.] - ETA: 0s - loss: 0.2794 - acc: 0.8746Epoch 00001: val_loss improved from 0.47372 to 0.41548, saving model to /home/yuriyguts/Projects/kaggle-quora-question-pairs/data/tmp/fold-checkpoint-oofp_nn_mlp_with_magic.h5\n",
      "646862/646862 [==============================] - 16s - loss: 0.2794 - acc: 0.8746 - val_loss: 0.4155 - val_acc: 0.8243\n",
      "Epoch 3/200\n",
      "643072/646862 [============================>.] - ETA: 0s - loss: 0.2532 - acc: 0.8874Epoch 00002: val_loss improved from 0.41548 to 0.29717, saving model to /home/yuriyguts/Projects/kaggle-quora-question-pairs/data/tmp/fold-checkpoint-oofp_nn_mlp_with_magic.h5\n",
      "646862/646862 [==============================] - 16s - loss: 0.2532 - acc: 0.8874 - val_loss: 0.2972 - val_acc: 0.8668\n",
      "Epoch 4/200\n",
      "645120/646862 [============================>.] - ETA: 0s - loss: 0.2313 - acc: 0.8980Epoch 00003: val_loss did not improve\n",
      "646862/646862 [==============================] - 14s - loss: 0.2313 - acc: 0.8980 - val_loss: 0.3021 - val_acc: 0.8680\n",
      "Epoch 5/200\n",
      "643072/646862 [============================>.] - ETA: 0s - loss: 0.2129 - acc: 0.9071Epoch 00004: val_loss did not improve\n",
      "646862/646862 [==============================] - 14s - loss: 0.2128 - acc: 0.9071 - val_loss: 0.3781 - val_acc: 0.8348\n",
      "Epoch 6/200\n",
      "645120/646862 [============================>.] - ETA: 0s - loss: 0.1948 - acc: 0.9158Epoch 00005: val_loss did not improve\n",
      "646862/646862 [==============================] - 15s - loss: 0.1949 - acc: 0.9158 - val_loss: 0.3030 - val_acc: 0.8684\n",
      "Epoch 7/200\n",
      "645120/646862 [============================>.] - ETA: 0s - loss: 0.1780 - acc: 0.9232Epoch 00006: val_loss did not improve\n",
      "646862/646862 [==============================] - 14s - loss: 0.1780 - acc: 0.9232 - val_loss: 0.3978 - val_acc: 0.8614\n",
      "Epoch 00006: early stopping\n",
      "2344960/2345796 [============================>.] - ETA: 0s\n",
      "Fitting fold 3 of 5\n",
      "\n",
      "Train on 646864 samples, validate on 161716 samples\n",
      "Epoch 1/200\n",
      "643072/646864 [============================>.] - ETA: 0s - loss: 0.3405 - acc: 0.8490Epoch 00000: val_loss improved from inf to 0.37872, saving model to /home/yuriyguts/Projects/kaggle-quora-question-pairs/data/tmp/fold-checkpoint-oofp_nn_mlp_with_magic.h5\n",
      "646864/646864 [==============================] - 16s - loss: 0.3403 - acc: 0.8491 - val_loss: 0.3787 - val_acc: 0.8446\n",
      "Epoch 2/200\n",
      "645120/646864 [============================>.] - ETA: 0s - loss: 0.2803 - acc: 0.8739Epoch 00001: val_loss improved from 0.37872 to 0.30225, saving model to /home/yuriyguts/Projects/kaggle-quora-question-pairs/data/tmp/fold-checkpoint-oofp_nn_mlp_with_magic.h5\n",
      "646864/646864 [==============================] - 15s - loss: 0.2803 - acc: 0.8739 - val_loss: 0.3023 - val_acc: 0.8646\n",
      "Epoch 3/200\n",
      "645120/646864 [============================>.] - ETA: 0s - loss: 0.2531 - acc: 0.8875Epoch 00002: val_loss did not improve\n",
      "646864/646864 [==============================] - 15s - loss: 0.2531 - acc: 0.8875 - val_loss: 0.3244 - val_acc: 0.8609\n",
      "Epoch 4/200\n",
      "645120/646864 [============================>.] - ETA: 0s - loss: 0.2316 - acc: 0.8978Epoch 00003: val_loss did not improve\n",
      "646864/646864 [==============================] - 15s - loss: 0.2317 - acc: 0.8977 - val_loss: 0.3761 - val_acc: 0.8505\n",
      "Epoch 5/200\n",
      "645120/646864 [============================>.] - ETA: 0s - loss: 0.2123 - acc: 0.9071Epoch 00004: val_loss did not improve\n",
      "646864/646864 [==============================] - 14s - loss: 0.2123 - acc: 0.9071 - val_loss: 0.3054 - val_acc: 0.8679\n",
      "Epoch 6/200\n",
      "645120/646864 [============================>.] - ETA: 0s - loss: 0.1937 - acc: 0.9157Epoch 00005: val_loss did not improve\n",
      "646864/646864 [==============================] - 15s - loss: 0.1936 - acc: 0.9157 - val_loss: 0.4158 - val_acc: 0.8132\n",
      "Epoch 00005: early stopping\n",
      "2340864/2345796 [============================>.] - ETA: 0s\n",
      "Fitting fold 4 of 5\n",
      "\n",
      "Train on 646866 samples, validate on 161714 samples\n",
      "Epoch 1/200\n",
      "645120/646866 [============================>.] - ETA: 0s - loss: 0.3403 - acc: 0.8487Epoch 00000: val_loss improved from inf to 0.37181, saving model to /home/yuriyguts/Projects/kaggle-quora-question-pairs/data/tmp/fold-checkpoint-oofp_nn_mlp_with_magic.h5\n",
      "646866/646866 [==============================] - 17s - loss: 0.3402 - acc: 0.8488 - val_loss: 0.3718 - val_acc: 0.8467\n",
      "Epoch 2/200\n",
      "645120/646866 [============================>.] - ETA: 0s - loss: 0.2818 - acc: 0.8736Epoch 00001: val_loss improved from 0.37181 to 0.35005, saving model to /home/yuriyguts/Projects/kaggle-quora-question-pairs/data/tmp/fold-checkpoint-oofp_nn_mlp_with_magic.h5\n",
      "646866/646866 [==============================] - 16s - loss: 0.2818 - acc: 0.8737 - val_loss: 0.3501 - val_acc: 0.8523\n",
      "Epoch 3/200\n",
      "645120/646866 [============================>.] - ETA: 0s - loss: 0.2547 - acc: 0.8865Epoch 00002: val_loss improved from 0.35005 to 0.31893, saving model to /home/yuriyguts/Projects/kaggle-quora-question-pairs/data/tmp/fold-checkpoint-oofp_nn_mlp_with_magic.h5\n",
      "646866/646866 [==============================] - 16s - loss: 0.2547 - acc: 0.8865 - val_loss: 0.3189 - val_acc: 0.8567\n",
      "Epoch 4/200\n",
      "645120/646866 [============================>.] - ETA: 0s - loss: 0.2336 - acc: 0.8970Epoch 00003: val_loss did not improve\n",
      "646866/646866 [==============================] - 15s - loss: 0.2336 - acc: 0.8970 - val_loss: 0.3253 - val_acc: 0.8576\n",
      "Epoch 5/200\n",
      "643072/646866 [============================>.] - ETA: 0s - loss: 0.2147 - acc: 0.9060Epoch 00004: val_loss improved from 0.31893 to 0.31360, saving model to /home/yuriyguts/Projects/kaggle-quora-question-pairs/data/tmp/fold-checkpoint-oofp_nn_mlp_with_magic.h5\n",
      "646866/646866 [==============================] - 16s - loss: 0.2147 - acc: 0.9060 - val_loss: 0.3136 - val_acc: 0.8613\n",
      "Epoch 6/200\n",
      "643072/646866 [============================>.] - ETA: 0s - loss: 0.1969 - acc: 0.9143Epoch 00005: val_loss did not improve\n",
      "646866/646866 [==============================] - 14s - loss: 0.1969 - acc: 0.9143 - val_loss: 0.3318 - val_acc: 0.8528\n",
      "Epoch 7/200\n",
      "645120/646866 [============================>.] - ETA: 0s - loss: 0.1807 - acc: 0.9219Epoch 00006: val_loss did not improve\n",
      "646866/646866 [==============================] - 15s - loss: 0.1807 - acc: 0.9219 - val_loss: 0.3349 - val_acc: 0.8568\n",
      "Epoch 8/200\n",
      "645120/646866 [============================>.] - ETA: 0s - loss: 0.1653 - acc: 0.9290Epoch 00007: val_loss did not improve\n",
      "646866/646866 [==============================] - 15s - loss: 0.1653 - acc: 0.9290 - val_loss: 0.3466 - val_acc: 0.8613\n",
      "Epoch 9/200\n",
      "645120/646866 [============================>.] - ETA: 0s - loss: 0.1509 - acc: 0.9358Epoch 00008: val_loss did not improve\n",
      "646866/646866 [==============================] - 14s - loss: 0.1509 - acc: 0.9358 - val_loss: 0.3473 - val_acc: 0.8648\n",
      "Epoch 00008: early stopping\n",
      "2341888/2345796 [============================>.] - ETA: 0s\n",
      "Fitting fold 5 of 5\n",
      "\n",
      "Train on 646866 samples, validate on 161714 samples\n",
      "Epoch 1/200\n",
      "643072/646866 [============================>.] - ETA: 0s - loss: 0.3346 - acc: 0.8508Epoch 00000: val_loss improved from inf to 0.41002, saving model to /home/yuriyguts/Projects/kaggle-quora-question-pairs/data/tmp/fold-checkpoint-oofp_nn_mlp_with_magic.h5\n",
      "646866/646866 [==============================] - 17s - loss: 0.3344 - acc: 0.8508 - val_loss: 0.4100 - val_acc: 0.8383\n",
      "Epoch 2/200\n",
      "643072/646866 [============================>.] - ETA: 0s - loss: 0.2783 - acc: 0.8744Epoch 00001: val_loss improved from 0.41002 to 0.30778, saving model to /home/yuriyguts/Projects/kaggle-quora-question-pairs/data/tmp/fold-checkpoint-oofp_nn_mlp_with_magic.h5\n",
      "646866/646866 [==============================] - 16s - loss: 0.2783 - acc: 0.8744 - val_loss: 0.3078 - val_acc: 0.8651\n",
      "Epoch 3/200\n",
      "643072/646866 [============================>.] - ETA: 0s - loss: 0.2515 - acc: 0.8882Epoch 00002: val_loss did not improve\n",
      "646866/646866 [==============================] - 15s - loss: 0.2515 - acc: 0.8882 - val_loss: 0.3671 - val_acc: 0.8534\n",
      "Epoch 4/200\n",
      "645120/646866 [============================>.] - ETA: 0s - loss: 0.2302 - acc: 0.8986Epoch 00003: val_loss did not improve\n",
      "646866/646866 [==============================] - 14s - loss: 0.2303 - acc: 0.8985 - val_loss: 0.3649 - val_acc: 0.8574\n",
      "Epoch 5/200\n",
      "643072/646866 [============================>.] - ETA: 0s - loss: 0.2113 - acc: 0.9077Epoch 00004: val_loss improved from 0.30778 to 0.30353, saving model to /home/yuriyguts/Projects/kaggle-quora-question-pairs/data/tmp/fold-checkpoint-oofp_nn_mlp_with_magic.h5\n",
      "646866/646866 [==============================] - 15s - loss: 0.2113 - acc: 0.9077 - val_loss: 0.3035 - val_acc: 0.8638\n",
      "Epoch 6/200\n",
      "645120/646866 [============================>.] - ETA: 0s - loss: 0.1932 - acc: 0.9167Epoch 00005: val_loss did not improve\n",
      "646866/646866 [==============================] - 14s - loss: 0.1932 - acc: 0.9166 - val_loss: 0.3573 - val_acc: 0.8384\n",
      "Epoch 7/200\n",
      "645120/646866 [============================>.] - ETA: 0s - loss: 0.1755 - acc: 0.9246Epoch 00006: val_loss did not improve\n",
      "646866/646866 [==============================] - 14s - loss: 0.1756 - acc: 0.9246 - val_loss: 0.3867 - val_acc: 0.8227\n",
      "Epoch 8/200\n",
      "645120/646866 [============================>.] - ETA: 0s - loss: 0.1603 - acc: 0.9311- Epoch 00007: val_loss did not improve\n",
      "646866/646866 [==============================] - 15s - loss: 0.1603 - acc: 0.9311 - val_loss: 0.3439 - val_acc: 0.8549\n",
      "Epoch 9/200\n",
      "645120/646866 [============================>.] - ETA: 0s - loss: 0.1450 - acc: 0.9386Epoch 00008: val_loss did not improve\n",
      "646866/646866 [==============================] - 14s - loss: 0.1450 - acc: 0.9386 - val_loss: 0.3498 - val_acc: 0.8582\n",
      "Epoch 00008: early stopping\n",
      "80857/80857 [==============================] - 0s     \n",
      "2340864/2345796 [============================>.] - ETA: 0sCPU times: user 7min 23s, sys: 37.5 s, total: 8min 1s\n",
      "Wall time: 13min 45s\n"
     ]
    }
   ],
   "source": [
    "%%time\n",
    "\n",
    "# Iterate through folds.\n",
    "for fold_num, (ix_train, ix_val) in enumerate(kfold.split(X_train_q1, y_train)):\n",
    "    \n",
    "    # Augment the training set by mirroring the pairs.\n",
    "    X_fold_train_q1 = np.vstack([X_train_q1[ix_train], X_train_q2[ix_train]])\n",
    "    X_fold_train_q2 = np.vstack([X_train_q2[ix_train], X_train_q1[ix_train]])\n",
    "    X_fold_train_magic = np.vstack([X_train_magic[ix_train], X_train_magic[ix_train]])\n",
    "\n",
    "    X_fold_val_q1 = np.vstack([X_train_q1[ix_val], X_train_q2[ix_val]])\n",
    "    X_fold_val_q2 = np.vstack([X_train_q2[ix_val], X_train_q1[ix_val]])\n",
    "    X_fold_val_magic = np.vstack([X_train_magic[ix_val], X_train_magic[ix_val]])\n",
    "\n",
    "    # Ground truth should also be \"mirrored\".\n",
    "    y_fold_train = np.concatenate([y_train[ix_train], y_train[ix_train]])\n",
    "    y_fold_val = np.concatenate([y_train[ix_val], y_train[ix_val]])\n",
    "    \n",
    "    print()\n",
    "    print(f'Fitting fold {fold_num + 1} of {kfold.n_splits}')\n",
    "    print()\n",
    "    \n",
    "    # Compile a new model.\n",
    "    model = create_model(model_params)\n",
    "\n",
    "    # Train.\n",
    "    model.fit(\n",
    "        [X_fold_train_q1, X_fold_train_q2, X_fold_train_magic], y_fold_train,\n",
    "        validation_data=([X_fold_val_q1, X_fold_val_q2, X_fold_val_magic], y_fold_val),\n",
    "\n",
    "        batch_size=BATCH_SIZE,\n",
    "        epochs=MAX_EPOCHS,\n",
    "        verbose=1,\n",
    "        \n",
    "        callbacks=[\n",
    "            # Stop training when the validation loss stops improving.\n",
    "            EarlyStopping(\n",
    "                monitor='val_loss',\n",
    "                min_delta=0.001,\n",
    "                patience=3,\n",
    "                verbose=1,\n",
    "                mode='auto',\n",
    "            ),\n",
    "            # Save the weights of the best epoch.\n",
    "            ModelCheckpoint(\n",
    "                model_checkpoint_path,\n",
    "                monitor='val_loss',\n",
    "                save_best_only=True,\n",
    "                verbose=2,\n",
    "            ),\n",
    "        ],\n",
    "    )\n",
    "        \n",
    "    # Restore the best epoch.\n",
    "    model.load_weights(model_checkpoint_path)\n",
    "    \n",
    "    # Compute out-of-fold predictions.\n",
    "    y_train_oofp[ix_val] = predict(model, X_train_q1[ix_val], X_train_q2[ix_val], X_train_magic[ix_val])\n",
    "    y_test_oofp[:, fold_num] = predict(model, X_test_q1, X_test_q2, X_test_magic)\n",
    "    \n",
    "    # Clear GPU memory.\n",
    "    K.clear_session()\n",
    "    del X_fold_train_q1, X_fold_train_q2, X_fold_train_magic\n",
    "    del X_fold_val_q1, X_fold_val_q2, X_fold_val_magic\n",
    "    del model\n",
    "    gc.collect()"
   ]
  },
  {
   "cell_type": "code",
   "execution_count": 32,
   "metadata": {},
   "outputs": [
    {
     "name": "stdout",
     "output_type": "stream",
     "text": [
      "CV score: 0.292694363155\n"
     ]
    }
   ],
   "source": [
    "cv_score = log_loss(y_train, y_train_oofp)\n",
    "print('CV score:', cv_score)"
   ]
  },
  {
   "cell_type": "markdown",
   "metadata": {},
   "source": [
    "## Save features"
   ]
  },
  {
   "cell_type": "code",
   "execution_count": 33,
   "metadata": {
    "collapsed": true
   },
   "outputs": [],
   "source": [
    "feature_names = [feature_list_id]"
   ]
  },
  {
   "cell_type": "code",
   "execution_count": 34,
   "metadata": {
    "collapsed": true
   },
   "outputs": [],
   "source": [
    "features_train = y_train_oofp.reshape((-1, 1))"
   ]
  },
  {
   "cell_type": "code",
   "execution_count": 35,
   "metadata": {
    "collapsed": true
   },
   "outputs": [],
   "source": [
    "features_test = np.mean(y_test_oofp, axis=1).reshape((-1, 1))"
   ]
  },
  {
   "cell_type": "code",
   "execution_count": 36,
   "metadata": {
    "collapsed": true
   },
   "outputs": [],
   "source": [
    "project.save_features(features_train, features_test, feature_names, feature_list_id)"
   ]
  },
  {
   "cell_type": "markdown",
   "metadata": {},
   "source": [
    "## Explore"
   ]
  },
  {
   "cell_type": "code",
   "execution_count": 37,
   "metadata": {},
   "outputs": [
    {
     "data": {
      "text/plain": [
       "<matplotlib.axes._subplots.AxesSubplot at 0x7fa076daa518>"
      ]
     },
     "execution_count": 37,
     "metadata": {},
     "output_type": "execute_result"
    },
    {
     "data": {
      "image/png": "[encoded data removed]",
      "text/plain": [
       "<matplotlib.figure.Figure at 0x7f9ff859d438>"
      ]
     },
     "metadata": {},
     "output_type": "display_data"
    }
   ],
   "source": [
    "pd.DataFrame(features_test).plot.hist()"
   ]
  }
 ],
 "metadata": {
  "kernelspec": {
   "display_name": "Python 3",
   "language": "python",
   "name": "python3"
  },
  "language_info": {
   "codemirror_mode": {
    "name": "ipython",
    "version": 3
   },
   "file_extension": ".py",
   "mimetype": "text/x-python",
   "name": "python",
   "nbconvert_exporter": "python",
   "pygments_lexer": "ipython3",
   "version": "3.6.3"
  }
 },
 "nbformat": 4,
 "nbformat_minor": 2
}
