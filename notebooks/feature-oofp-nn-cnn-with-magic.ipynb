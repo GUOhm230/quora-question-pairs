{
 "cells": [
  {
   "cell_type": "markdown",
   "metadata": {},
   "source": [
    "# Feature: Out-Of-Fold Predictions from a CNN (+Magic Inputs)"
   ]
  },
  {
   "cell_type": "markdown",
   "metadata": {},
   "source": [
    "In addition to the convolutional architecture, we'll append some of the leaky features to the intermediate feature layer."
   ]
  },
  {
   "cell_type": "markdown",
   "metadata": {},
   "source": [
    "<img src=\"assets/cnn-with-magic.png\" alt=\"Network Architecture\" style=\"height: 1200px;\" />"
   ]
  },
  {
   "cell_type": "markdown",
   "metadata": {},
   "source": [
    "## Imports"
   ]
  },
  {
   "cell_type": "markdown",
   "metadata": {},
   "source": [
    "This utility package imports `numpy`, `pandas`, `matplotlib` and a helper `kg` module into the root namespace."
   ]
  },
  {
   "cell_type": "code",
   "execution_count": 1,
   "metadata": {
    "collapsed": true
   },
   "outputs": [],
   "source": [
    "from pygoose import *"
   ]
  },
  {
   "cell_type": "code",
   "execution_count": 2,
   "metadata": {
    "collapsed": true
   },
   "outputs": [],
   "source": [
    "import gc"
   ]
  },
  {
   "cell_type": "code",
   "execution_count": 3,
   "metadata": {
    "collapsed": true
   },
   "outputs": [],
   "source": [
    "from sklearn.preprocessing import StandardScaler\n",
    "from sklearn.model_selection import StratifiedKFold\n",
    "from sklearn.metrics import *"
   ]
  },
  {
   "cell_type": "code",
   "execution_count": 5,
   "metadata": {},
   "outputs": [
    {
     "name": "stderr",
     "output_type": "stream",
     "text": [
      "Using TensorFlow backend.\n"
     ]
    }
   ],
   "source": [
    "from keras import backend as K\n",
    "from keras.models import Model, Sequential\n",
    "from keras.layers import *\n",
    "from keras.callbacks import EarlyStopping, ModelCheckpoint"
   ]
  },
  {
   "cell_type": "markdown",
   "metadata": {},
   "source": [
    "## Config"
   ]
  },
  {
   "cell_type": "markdown",
   "metadata": {},
   "source": [
    "Automatically discover the paths to various data folders and compose the project structure."
   ]
  },
  {
   "cell_type": "code",
   "execution_count": 6,
   "metadata": {
    "collapsed": true
   },
   "outputs": [],
   "source": [
    "project = kg.Project.discover()"
   ]
  },
  {
   "cell_type": "markdown",
   "metadata": {},
   "source": [
    "Identifier for storing these features on disk and referring to them later."
   ]
  },
  {
   "cell_type": "code",
   "execution_count": 7,
   "metadata": {
    "collapsed": true
   },
   "outputs": [],
   "source": [
    "feature_list_id = 'oofp_nn_cnn_with_magic'"
   ]
  },
  {
   "cell_type": "markdown",
   "metadata": {},
   "source": [
    "Make subsequent NN runs reproducible."
   ]
  },
  {
   "cell_type": "code",
   "execution_count": 8,
   "metadata": {
    "collapsed": true
   },
   "outputs": [],
   "source": [
    "RANDOM_SEED = 42"
   ]
  },
  {
   "cell_type": "code",
   "execution_count": 9,
   "metadata": {
    "collapsed": true
   },
   "outputs": [],
   "source": [
    "np.random.seed(RANDOM_SEED)"
   ]
  },
  {
   "cell_type": "markdown",
   "metadata": {},
   "source": [
    "## Read data"
   ]
  },
  {
   "cell_type": "markdown",
   "metadata": {},
   "source": [
    "Word embedding lookup matrix."
   ]
  },
  {
   "cell_type": "code",
   "execution_count": 10,
   "metadata": {
    "collapsed": true
   },
   "outputs": [],
   "source": [
    "embedding_matrix = kg.io.load(project.aux_dir + 'fasttext_vocab_embedding_matrix.pickle')"
   ]
  },
  {
   "cell_type": "markdown",
   "metadata": {},
   "source": [
    "Padded sequences of word indices for every question."
   ]
  },
  {
   "cell_type": "code",
   "execution_count": 11,
   "metadata": {
    "collapsed": true
   },
   "outputs": [],
   "source": [
    "X_train_q1 = kg.io.load(project.preprocessed_data_dir + 'sequences_q1_fasttext_train.pickle')\n",
    "X_train_q2 = kg.io.load(project.preprocessed_data_dir + 'sequences_q2_fasttext_train.pickle')"
   ]
  },
  {
   "cell_type": "code",
   "execution_count": 12,
   "metadata": {
    "collapsed": true
   },
   "outputs": [],
   "source": [
    "X_test_q1 = kg.io.load(project.preprocessed_data_dir + 'sequences_q1_fasttext_test.pickle')\n",
    "X_test_q2 = kg.io.load(project.preprocessed_data_dir + 'sequences_q2_fasttext_test.pickle')"
   ]
  },
  {
   "cell_type": "code",
   "execution_count": 13,
   "metadata": {
    "collapsed": true
   },
   "outputs": [],
   "source": [
    "y_train = kg.io.load(project.features_dir + 'y_train.pickle')"
   ]
  },
  {
   "cell_type": "markdown",
   "metadata": {},
   "source": [
    "Magic features."
   ]
  },
  {
   "cell_type": "code",
   "execution_count": 14,
   "metadata": {
    "collapsed": true
   },
   "outputs": [],
   "source": [
    "magic_feature_lists = [\n",
    "    'magic_frequencies',\n",
    "    'magic_cooccurrence_matrix',\n",
    "]"
   ]
  },
  {
   "cell_type": "code",
   "execution_count": 15,
   "metadata": {
    "collapsed": true
   },
   "outputs": [],
   "source": [
    "X_train_magic, X_test_magic, _ = project.load_feature_lists(magic_feature_lists)"
   ]
  },
  {
   "cell_type": "code",
   "execution_count": 16,
   "metadata": {
    "collapsed": true
   },
   "outputs": [],
   "source": [
    "X_train_magic = X_train_magic.values\n",
    "X_test_magic = X_test_magic.values"
   ]
  },
  {
   "cell_type": "code",
   "execution_count": 17,
   "metadata": {
    "collapsed": true
   },
   "outputs": [],
   "source": [
    "scaler = StandardScaler()\n",
    "scaler.fit(np.vstack([X_train_magic, X_test_magic]))\n",
    "X_train_magic = scaler.transform(X_train_magic)\n",
    "X_test_magic = scaler.transform(X_test_magic)"
   ]
  },
  {
   "cell_type": "markdown",
   "metadata": {},
   "source": [
    "Word embedding properties."
   ]
  },
  {
   "cell_type": "code",
   "execution_count": 18,
   "metadata": {
    "collapsed": true
   },
   "outputs": [],
   "source": [
    "EMBEDDING_DIM = embedding_matrix.shape[-1]\n",
    "VOCAB_LENGTH = embedding_matrix.shape[0]\n",
    "MAX_SEQUENCE_LENGTH = X_train_q1.shape[-1]"
   ]
  },
  {
   "cell_type": "code",
   "execution_count": 19,
   "metadata": {},
   "outputs": [
    {
     "name": "stdout",
     "output_type": "stream",
     "text": [
      "300 101564 30\n"
     ]
    }
   ],
   "source": [
    "print(EMBEDDING_DIM, VOCAB_LENGTH, MAX_SEQUENCE_LENGTH)"
   ]
  },
  {
   "cell_type": "markdown",
   "metadata": {},
   "source": [
    "## Define models"
   ]
  },
  {
   "cell_type": "code",
   "execution_count": 20,
   "metadata": {
    "collapsed": true
   },
   "outputs": [],
   "source": [
    "init_weights = initializers.TruncatedNormal(mean=0.0, stddev=0.05, seed=2)\n",
    "init_bias = 'zeros'"
   ]
  },
  {
   "cell_type": "code",
   "execution_count": 21,
   "metadata": {
    "collapsed": true
   },
   "outputs": [],
   "source": [
    "def create_embedding_block():\n",
    "    input_seq = Input(shape=(MAX_SEQUENCE_LENGTH, ), dtype='int32')\n",
    "    \n",
    "    embedding_seq = Embedding(\n",
    "        VOCAB_LENGTH,\n",
    "        EMBEDDING_DIM,\n",
    "        weights=[embedding_matrix],\n",
    "        input_length=MAX_SEQUENCE_LENGTH,\n",
    "        trainable=False,\n",
    "    )(input_seq)\n",
    "    \n",
    "    output_seq = embedding_seq\n",
    "    return input_seq, output_seq"
   ]
  },
  {
   "cell_type": "code",
   "execution_count": 22,
   "metadata": {
    "collapsed": true
   },
   "outputs": [],
   "source": [
    "def create_model_question_conv_branch(input_seq, params):\n",
    "    conv_1 = Conv1D(\n",
    "        params['num_conv_filters'],\n",
    "        kernel_size=params['conv_kernel_size'],\n",
    "        padding='same',\n",
    "    )(input_seq)\n",
    "    \n",
    "    bn_1 = BatchNormalization()(conv_1)\n",
    "    relu_1 = Activation('relu')(bn_1)\n",
    "    dropout_1 = Dropout(params['conv_dropout_rate'])(relu_1)\n",
    "\n",
    "    conv_2 = Conv1D(\n",
    "        params['num_conv_filters'],\n",
    "        kernel_size=params['conv_kernel_size'],\n",
    "        padding='same',\n",
    "    )(dropout_1)\n",
    "    \n",
    "    bn_2 = BatchNormalization()(conv_2)\n",
    "    relu_2 = Activation('relu')(bn_2)\n",
    "    dropout_2 = Dropout(params['conv_dropout_rate'])(relu_2)\n",
    "    \n",
    "    flatten = Flatten()(dropout_2)\n",
    "    output = flatten\n",
    "    \n",
    "    return output"
   ]
  },
  {
   "cell_type": "code",
   "execution_count": 23,
   "metadata": {
    "collapsed": true
   },
   "outputs": [],
   "source": [
    "def create_model_question_timedist_max_branch(input_seq, params):\n",
    "    timedist = TimeDistributed(Dense(EMBEDDING_DIM))(input_seq)\n",
    "    bn = BatchNormalization()(timedist)\n",
    "    relu = Activation('relu')(bn)\n",
    "    dropout = Dropout(params['timedist_dropout_rate'])(relu)\n",
    "\n",
    "    lambda_max = Lambda(\n",
    "        lambda x: K.max(x, axis=1),\n",
    "        output_shape=(EMBEDDING_DIM, )\n",
    "    )(dropout)\n",
    "    \n",
    "    output = lambda_max\n",
    "    return output"
   ]
  },
  {
   "cell_type": "code",
   "execution_count": 24,
   "metadata": {
    "collapsed": true
   },
   "outputs": [],
   "source": [
    "def create_dense_block(input_layer, num_units, dropout_rate):\n",
    "    dense = Dense(\n",
    "        num_units,\n",
    "        kernel_initializer=init_weights,\n",
    "        bias_initializer=init_bias,\n",
    "    )(input_layer)\n",
    "    bn = BatchNormalization()(dense)\n",
    "    relu = Activation('relu')(bn)\n",
    "    dropout = Dropout(dropout_rate)(relu)\n",
    "    output = dropout\n",
    "    \n",
    "    return output"
   ]
  },
  {
   "cell_type": "code",
   "execution_count": 25,
   "metadata": {
    "collapsed": true
   },
   "outputs": [],
   "source": [
    "def create_model(params):\n",
    "    input_q1, emb_q1 = create_embedding_block()\n",
    "    input_q2, emb_q2 = create_embedding_block()\n",
    "    \n",
    "    # Feature extractors.\n",
    "    conv_q1_output = create_model_question_conv_branch(emb_q1, params)\n",
    "    conv_q2_output = create_model_question_conv_branch(emb_q2, params)\n",
    "    \n",
    "    timedist_q1_output = create_model_question_timedist_max_branch(emb_q1, params)\n",
    "    timedist_q2_output = create_model_question_timedist_max_branch(emb_q2, params)\n",
    "    \n",
    "    # Mid-level transforms.\n",
    "    conv_merged = concatenate([conv_q1_output, conv_q2_output])\n",
    "    conv_dense_1 = create_dense_block(conv_merged, params['num_dense_1'], params['dense_dropout_rate'])\n",
    "    conv_dense_2 = create_dense_block(conv_dense_1, params['num_dense_2'], params['dense_dropout_rate'])\n",
    "\n",
    "    td_merged = concatenate([timedist_q1_output, timedist_q2_output])\n",
    "    td_dense_1 = create_dense_block(td_merged, params['num_dense_1'], params['dense_dropout_rate'])\n",
    "    td_dense_2 = create_dense_block(td_dense_1, params['num_dense_2'], params['dense_dropout_rate'])\n",
    "\n",
    "    # Magic features.\n",
    "    magic_input = Input(shape=(X_train_magic.shape[-1], ))\n",
    "    \n",
    "    # Main dense block.\n",
    "    merged_main = concatenate([conv_dense_2, td_dense_2, magic_input])\n",
    "    dense_main_1 = create_dense_block(merged_main, params['num_dense_1'], params['dense_dropout_rate'])\n",
    "    dense_main_2 = create_dense_block(dense_main_1, params['num_dense_2'], params['dense_dropout_rate'])\n",
    "    dense_main_3 = create_dense_block(dense_main_2, params['num_dense_3'], params['dense_dropout_rate'])\n",
    "    \n",
    "    output = Dense(\n",
    "        1,\n",
    "        kernel_initializer=init_weights,\n",
    "        bias_initializer=init_bias,\n",
    "        activation='sigmoid',\n",
    "    )(dense_main_3)\n",
    "    \n",
    "    model = Model(\n",
    "        inputs=[input_q1, input_q2, magic_input],\n",
    "        outputs=output,\n",
    "    )\n",
    "    \n",
    "    model.compile(\n",
    "        loss='binary_crossentropy',\n",
    "        optimizer='nadam',\n",
    "        metrics=['accuracy']\n",
    "    )\n",
    "\n",
    "    return model"
   ]
  },
  {
   "cell_type": "code",
   "execution_count": 26,
   "metadata": {
    "collapsed": true
   },
   "outputs": [],
   "source": [
    "def predict(model, X_q1, X_q2, X_magic):\n",
    "    \"\"\"\n",
    "    Mirror the pairs, compute two separate predictions, and average them.\n",
    "    \"\"\"\n",
    "    \n",
    "    y1 = model.predict([X_q1, X_q2, X_magic], batch_size=1024, verbose=1).reshape(-1)   \n",
    "    y2 = model.predict([X_q2, X_q1, X_magic], batch_size=1024, verbose=1).reshape(-1)    \n",
    "    return (y1 + y2) / 2"
   ]
  },
  {
   "cell_type": "markdown",
   "metadata": {},
   "source": [
    "## Partition the data"
   ]
  },
  {
   "cell_type": "code",
   "execution_count": 27,
   "metadata": {
    "collapsed": true
   },
   "outputs": [],
   "source": [
    "NUM_FOLDS = 5"
   ]
  },
  {
   "cell_type": "code",
   "execution_count": 28,
   "metadata": {
    "collapsed": true
   },
   "outputs": [],
   "source": [
    "kfold = StratifiedKFold(\n",
    "    n_splits=NUM_FOLDS,\n",
    "    shuffle=True,\n",
    "    random_state=RANDOM_SEED\n",
    ")"
   ]
  },
  {
   "cell_type": "markdown",
   "metadata": {},
   "source": [
    "Create placeholders for out-of-fold predictions."
   ]
  },
  {
   "cell_type": "code",
   "execution_count": 29,
   "metadata": {
    "collapsed": true
   },
   "outputs": [],
   "source": [
    "y_train_oofp = np.zeros_like(y_train, dtype='float64')"
   ]
  },
  {
   "cell_type": "code",
   "execution_count": 30,
   "metadata": {
    "collapsed": true
   },
   "outputs": [],
   "source": [
    "y_test_oofp = np.zeros((len(X_test_q1), NUM_FOLDS))"
   ]
  },
  {
   "cell_type": "markdown",
   "metadata": {},
   "source": [
    "## Define hyperparameters"
   ]
  },
  {
   "cell_type": "code",
   "execution_count": 31,
   "metadata": {
    "collapsed": true
   },
   "outputs": [],
   "source": [
    "BATCH_SIZE = 2048"
   ]
  },
  {
   "cell_type": "code",
   "execution_count": 32,
   "metadata": {
    "collapsed": true
   },
   "outputs": [],
   "source": [
    "MAX_EPOCHS = 200"
   ]
  },
  {
   "cell_type": "code",
   "execution_count": 33,
   "metadata": {
    "collapsed": true
   },
   "outputs": [],
   "source": [
    "model_params = {\n",
    "    'num_conv_filters': 32,\n",
    "    'num_dense_1': 256,\n",
    "    'num_dense_2': 128,\n",
    "    'num_dense_3': 100,\n",
    "    'conv_kernel_size': 3,\n",
    "    'conv_dropout_rate': 0.25,\n",
    "    'timedist_dropout_rate': 0.25,\n",
    "    'dense_dropout_rate': 0.25,\n",
    "}"
   ]
  },
  {
   "cell_type": "markdown",
   "metadata": {},
   "source": [
    "The path where the best weights of the current model will be saved."
   ]
  },
  {
   "cell_type": "code",
   "execution_count": 34,
   "metadata": {
    "collapsed": true
   },
   "outputs": [],
   "source": [
    "model_checkpoint_path = project.temp_dir + 'fold-checkpoint-' + feature_list_id + '.h5'"
   ]
  },
  {
   "cell_type": "markdown",
   "metadata": {},
   "source": [
    "## Fit the folds and compute out-of-fold predictions"
   ]
  },
  {
   "cell_type": "code",
   "execution_count": 35,
   "metadata": {
    "scrolled": false
   },
   "outputs": [
    {
     "name": "stdout",
     "output_type": "stream",
     "text": [
      "\n",
      "Fitting fold 1 of 5\n",
      "\n",
      "Train on 646862 samples, validate on 161718 samples\n",
      "Epoch 1/200\n",
      "645120/646862 [============================>.] - ETA: 0s - loss: 0.3594 - acc: 0.8420- ETA: 8s - loss: 0.3689 - acc: 0 - Epoch 00000: val_loss improved from inf to 0.41719, saving model to /home/yuriyguts/Projects/kaggle-quora-question-pairs/data/tmp/fold-checkpoint-oofp_nn_cnn_with_magic.h5\n",
      "646862/646862 [==============================] - 36s - loss: 0.3594 - acc: 0.8420 - val_loss: 0.4172 - val_acc: 0.7607\n",
      "Epoch 2/200\n",
      "645120/646862 [============================>.] - ETA: 0s - loss: 0.3105 - acc: 0.8605Epoch 00001: val_loss improved from 0.41719 to 0.30802, saving model to /home/yuriyguts/Projects/kaggle-quora-question-pairs/data/tmp/fold-checkpoint-oofp_nn_cnn_with_magic.h5\n",
      "646862/646862 [==============================] - 34s - loss: 0.3104 - acc: 0.8605 - val_loss: 0.3080 - val_acc: 0.8545\n",
      "Epoch 3/200\n",
      "645120/646862 [============================>.] - ETA: 0s - loss: 0.2916 - acc: 0.8694- ETA: 3s - loss: 0.2 - ETA: 1s - loss: 0.2918Epoch 00002: val_loss improved from 0.30802 to 0.28898, saving model to /home/yuriyguts/Projects/kaggle-quora-question-pairs/data/tmp/fold-checkpoint-oofp_nn_cnn_with_magic.h5\n",
      "646862/646862 [==============================] - 34s - loss: 0.2916 - acc: 0.8694 - val_loss: 0.2890 - val_acc: 0.8694\n",
      "Epoch 4/200\n",
      "645120/646862 [============================>.] - ETA: 0s - loss: 0.2787 - acc: 0.8755Epoch 00003: val_loss improved from 0.28898 to 0.28317, saving model to /home/yuriyguts/Projects/kaggle-quora-question-pairs/data/tmp/fold-checkpoint-oofp_nn_cnn_with_magic.h5\n",
      "646862/646862 [==============================] - 34s - loss: 0.2787 - acc: 0.8755 - val_loss: 0.2832 - val_acc: 0.8730\n",
      "Epoch 5/200\n",
      "645120/646862 [============================>.] - ETA: 0s - loss: 0.2687 - acc: 0.8806Epoch 00004: val_loss improved from 0.28317 to 0.27955, saving model to /home/yuriyguts/Projects/kaggle-quora-question-pairs/data/tmp/fold-checkpoint-oofp_nn_cnn_with_magic.h5\n",
      "646862/646862 [==============================] - 34s - loss: 0.2687 - acc: 0.8806 - val_loss: 0.2795 - val_acc: 0.8753\n",
      "Epoch 6/200\n",
      "645120/646862 [============================>.] - ETA: 0s - loss: 0.2604 - acc: 0.8848Epoch 00005: val_loss improved from 0.27955 to 0.27764, saving model to /home/yuriyguts/Projects/kaggle-quora-question-pairs/data/tmp/fold-checkpoint-oofp_nn_cnn_with_magic.h5\n",
      "646862/646862 [==============================] - 34s - loss: 0.2604 - acc: 0.8848 - val_loss: 0.2776 - val_acc: 0.8750\n",
      "Epoch 7/200\n",
      "645120/646862 [============================>.] - ETA: 0s - loss: 0.2533 - acc: 0.8883Epoch 00006: val_loss improved from 0.27764 to 0.27308, saving model to /home/yuriyguts/Projects/kaggle-quora-question-pairs/data/tmp/fold-checkpoint-oofp_nn_cnn_with_magic.h5\n",
      "646862/646862 [==============================] - 34s - loss: 0.2533 - acc: 0.8883 - val_loss: 0.2731 - val_acc: 0.8780\n",
      "Epoch 8/200\n",
      "645120/646862 [============================>.] - ETA: 0s - loss: 0.2464 - acc: 0.8923Epoch 00007: val_loss improved from 0.27308 to 0.27079, saving model to /home/yuriyguts/Projects/kaggle-quora-question-pairs/data/tmp/fold-checkpoint-oofp_nn_cnn_with_magic.h5\n",
      "646862/646862 [==============================] - 34s - loss: 0.2464 - acc: 0.8923 - val_loss: 0.2708 - val_acc: 0.8788\n",
      "Epoch 9/200\n",
      "645120/646862 [============================>.] - ETA: 0s - loss: 0.2410 - acc: 0.8948Epoch 00008: val_loss did not improve\n",
      "646862/646862 [==============================] - 34s - loss: 0.2410 - acc: 0.8948 - val_loss: 0.2744 - val_acc: 0.8766\n",
      "Epoch 10/200\n",
      "645120/646862 [============================>.] - ETA: 0s - loss: 0.2355 - acc: 0.8969Epoch 00009: val_loss did not improve\n",
      "646862/646862 [==============================] - 34s - loss: 0.2355 - acc: 0.8968 - val_loss: 0.2711 - val_acc: 0.8791\n",
      "Epoch 11/200\n",
      "645120/646862 [============================>.] - ETA: 0s - loss: 0.2305 - acc: 0.8995Epoch 00010: val_loss did not improve\n",
      "646862/646862 [==============================] - 34s - loss: 0.2305 - acc: 0.8995 - val_loss: 0.2744 - val_acc: 0.8780\n",
      "Epoch 12/200\n",
      "645120/646862 [============================>.] - ETA: 0s - loss: 0.2258 - acc: 0.9014Epoch 00011: val_loss did not improve\n",
      "646862/646862 [==============================] - 34s - loss: 0.2258 - acc: 0.9013 - val_loss: 0.2712 - val_acc: 0.8811\n",
      "Epoch 00011: early stopping\n",
      "80859/80859 [==============================] - 1s     \n",
      "2345796/2345796 [==============================] - 39s    \n",
      "2344960/2345796 [============================>.] - ETA: 0s\n",
      "Fitting fold 2 of 5\n",
      "\n",
      "Train on 646862 samples, validate on 161718 samples\n",
      "Epoch 1/200\n",
      "645120/646862 [============================>.] - ETA: 0s - loss: 0.3581 - acc: 0.8424Epoch 00000: val_loss improved from inf to 0.34933, saving model to /home/yuriyguts/Projects/kaggle-quora-question-pairs/data/tmp/fold-checkpoint-oofp_nn_cnn_with_magic.h5\n",
      "646862/646862 [==============================] - 36s - loss: 0.3580 - acc: 0.8425 - val_loss: 0.3493 - val_acc: 0.8389\n",
      "Epoch 2/200\n",
      "645120/646862 [============================>.] - ETA: 0s - loss: 0.3105 - acc: 0.8603Epoch 00001: val_loss improved from 0.34933 to 0.30979, saving model to /home/yuriyguts/Projects/kaggle-quora-question-pairs/data/tmp/fold-checkpoint-oofp_nn_cnn_with_magic.h5\n",
      "646862/646862 [==============================] - 35s - loss: 0.3105 - acc: 0.8603 - val_loss: 0.3098 - val_acc: 0.8569\n",
      "Epoch 3/200\n",
      "645120/646862 [============================>.] - ETA: 0s - loss: 0.2905 - acc: 0.8699Epoch 00002: val_loss improved from 0.30979 to 0.29465, saving model to /home/yuriyguts/Projects/kaggle-quora-question-pairs/data/tmp/fold-checkpoint-oofp_nn_cnn_with_magic.h5\n",
      "646862/646862 [==============================] - 35s - loss: 0.2905 - acc: 0.8699 - val_loss: 0.2947 - val_acc: 0.8666\n",
      "Epoch 4/200\n",
      "645120/646862 [============================>.] - ETA: 0s - loss: 0.2772 - acc: 0.8769Epoch 00003: val_loss improved from 0.29465 to 0.28098, saving model to /home/yuriyguts/Projects/kaggle-quora-question-pairs/data/tmp/fold-checkpoint-oofp_nn_cnn_with_magic.h5\n",
      "646862/646862 [==============================] - 35s - loss: 0.2772 - acc: 0.8769 - val_loss: 0.2810 - val_acc: 0.8750\n",
      "Epoch 5/200\n",
      "645120/646862 [============================>.] - ETA: 0s - loss: 0.2670 - acc: 0.8820Epoch 00004: val_loss improved from 0.28098 to 0.28072, saving model to /home/yuriyguts/Projects/kaggle-quora-question-pairs/data/tmp/fold-checkpoint-oofp_nn_cnn_with_magic.h5\n",
      "646862/646862 [==============================] - 35s - loss: 0.2670 - acc: 0.8820 - val_loss: 0.2807 - val_acc: 0.8760\n",
      "Epoch 6/200\n",
      "645120/646862 [============================>.] - ETA: 0s - loss: 0.2580 - acc: 0.8861Epoch 00005: val_loss did not improve\n",
      "646862/646862 [==============================] - 34s - loss: 0.2581 - acc: 0.8861 - val_loss: 0.2819 - val_acc: 0.8753\n",
      "Epoch 7/200\n",
      "645120/646862 [============================>.] - ETA: 0s - loss: 0.2512 - acc: 0.8894Epoch 00006: val_loss did not improve\n",
      "646862/646862 [==============================] - 34s - loss: 0.2511 - acc: 0.8895 - val_loss: 0.2877 - val_acc: 0.8719\n",
      "Epoch 8/200\n",
      "645120/646862 [============================>.] - ETA: 0s - loss: 0.2453 - acc: 0.8923Epoch 00007: val_loss did not improve\n",
      "646862/646862 [==============================] - 34s - loss: 0.2453 - acc: 0.8923 - val_loss: 0.2858 - val_acc: 0.8724\n",
      "Epoch 00007: early stopping\n",
      "2345796/2345796 [==============================] - 39s    \n",
      "2344960/2345796 [============================>.] - ETA: 0s\n",
      "Fitting fold 3 of 5\n",
      "\n",
      "Train on 646864 samples, validate on 161716 samples\n",
      "Epoch 1/200\n",
      "645120/646864 [============================>.] - ETA: 0s - loss: 0.3590 - acc: 0.8422Epoch 00000: val_loss improved from inf to 0.34252, saving model to /home/yuriyguts/Projects/kaggle-quora-question-pairs/data/tmp/fold-checkpoint-oofp_nn_cnn_with_magic.h5\n",
      "646864/646864 [==============================] - 36s - loss: 0.3589 - acc: 0.8422 - val_loss: 0.3425 - val_acc: 0.8415\n",
      "Epoch 2/200\n",
      "645120/646864 [============================>.] - ETA: 0s - loss: 0.3109 - acc: 0.8605Epoch 00001: val_loss improved from 0.34252 to 0.29929, saving model to /home/yuriyguts/Projects/kaggle-quora-question-pairs/data/tmp/fold-checkpoint-oofp_nn_cnn_with_magic.h5\n"
     ]
    },
    {
     "name": "stdout",
     "output_type": "stream",
     "text": [
      "646864/646864 [==============================] - 35s - loss: 0.3108 - acc: 0.8605 - val_loss: 0.2993 - val_acc: 0.8657\n",
      "Epoch 3/200\n",
      "645120/646864 [============================>.] - ETA: 0s - loss: 0.2918 - acc: 0.8698Epoch 00002: val_loss improved from 0.29929 to 0.28642, saving model to /home/yuriyguts/Projects/kaggle-quora-question-pairs/data/tmp/fold-checkpoint-oofp_nn_cnn_with_magic.h5\n",
      "646864/646864 [==============================] - 35s - loss: 0.2918 - acc: 0.8699 - val_loss: 0.2864 - val_acc: 0.8716\n",
      "Epoch 4/200\n",
      "645120/646864 [============================>.] - ETA: 0s - loss: 0.2787 - acc: 0.8763Epoch 00003: val_loss improved from 0.28642 to 0.28345, saving model to /home/yuriyguts/Projects/kaggle-quora-question-pairs/data/tmp/fold-checkpoint-oofp_nn_cnn_with_magic.h5\n",
      "646864/646864 [==============================] - 35s - loss: 0.2787 - acc: 0.8763 - val_loss: 0.2835 - val_acc: 0.8724\n",
      "Epoch 5/200\n",
      "645120/646864 [============================>.] - ETA: 0s - loss: 0.2691 - acc: 0.8813Epoch 00004: val_loss improved from 0.28345 to 0.28249, saving model to /home/yuriyguts/Projects/kaggle-quora-question-pairs/data/tmp/fold-checkpoint-oofp_nn_cnn_with_magic.h5\n",
      "646864/646864 [==============================] - 35s - loss: 0.2691 - acc: 0.8813 - val_loss: 0.2825 - val_acc: 0.8754\n",
      "Epoch 6/200\n",
      "645120/646864 [============================>.] - ETA: 0s - loss: 0.2606 - acc: 0.8852Epoch 00005: val_loss improved from 0.28249 to 0.27647, saving model to /home/yuriyguts/Projects/kaggle-quora-question-pairs/data/tmp/fold-checkpoint-oofp_nn_cnn_with_magic.h5\n",
      "646864/646864 [==============================] - 35s - loss: 0.2606 - acc: 0.8852 - val_loss: 0.2765 - val_acc: 0.8769\n",
      "Epoch 7/200\n",
      "645120/646864 [============================>.] - ETA: 0s - loss: 0.2531 - acc: 0.8889Epoch 00006: val_loss improved from 0.27647 to 0.27338, saving model to /home/yuriyguts/Projects/kaggle-quora-question-pairs/data/tmp/fold-checkpoint-oofp_nn_cnn_with_magic.h5\n",
      "646864/646864 [==============================] - 35s - loss: 0.2531 - acc: 0.8889 - val_loss: 0.2734 - val_acc: 0.8790\n",
      "Epoch 8/200\n",
      "645120/646864 [============================>.] - ETA: 0s - loss: 0.2464 - acc: 0.8920Epoch 00007: val_loss improved from 0.27338 to 0.26881, saving model to /home/yuriyguts/Projects/kaggle-quora-question-pairs/data/tmp/fold-checkpoint-oofp_nn_cnn_with_magic.h5\n",
      "646864/646864 [==============================] - 35s - loss: 0.2464 - acc: 0.8919 - val_loss: 0.2688 - val_acc: 0.8802\n",
      "Epoch 9/200\n",
      "645120/646864 [============================>.] - ETA: 0s - loss: 0.2410 - acc: 0.8947Epoch 00008: val_loss did not improve\n",
      "646864/646864 [==============================] - 34s - loss: 0.2410 - acc: 0.8946 - val_loss: 0.2780 - val_acc: 0.8736\n",
      "Epoch 10/200\n",
      "645120/646864 [============================>.] - ETA: 0s - loss: 0.2352 - acc: 0.8973Epoch 00009: val_loss did not improve\n",
      "646864/646864 [==============================] - 34s - loss: 0.2352 - acc: 0.8973 - val_loss: 0.2724 - val_acc: 0.8810\n",
      "Epoch 11/200\n",
      "645120/646864 [============================>.] - ETA: 0s - loss: 0.2305 - acc: 0.8998Epoch 00010: val_loss did not improve\n",
      "646864/646864 [==============================] - 34s - loss: 0.2306 - acc: 0.8998 - val_loss: 0.2738 - val_acc: 0.8765\n",
      "Epoch 12/200\n",
      "645120/646864 [============================>.] - ETA: 0s - loss: 0.2258 - acc: 0.9018Epoch 00011: val_loss did not improve\n",
      "646864/646864 [==============================] - 34s - loss: 0.2258 - acc: 0.9018 - val_loss: 0.2813 - val_acc: 0.8786\n",
      "Epoch 00011: early stopping\n",
      "80858/80858 [==============================] - 1s     \n",
      "2344960/2345796 [============================>.] - ETA: 0s\n",
      "Fitting fold 4 of 5\n",
      "\n",
      "Train on 646866 samples, validate on 161714 samples\n",
      "Epoch 1/200\n",
      "645120/646866 [============================>.] - ETA: 0s - loss: 0.3595 - acc: 0.8422Epoch 00000: val_loss improved from inf to 0.33843, saving model to /home/yuriyguts/Projects/kaggle-quora-question-pairs/data/tmp/fold-checkpoint-oofp_nn_cnn_with_magic.h5\n",
      "646866/646866 [==============================] - 36s - loss: 0.3594 - acc: 0.8423 - val_loss: 0.3384 - val_acc: 0.8495\n",
      "Epoch 2/200\n",
      "645120/646866 [============================>.] - ETA: 0s - loss: 0.3118 - acc: 0.8597Epoch 00001: val_loss improved from 0.33843 to 0.30925, saving model to /home/yuriyguts/Projects/kaggle-quora-question-pairs/data/tmp/fold-checkpoint-oofp_nn_cnn_with_magic.h5\n",
      "646866/646866 [==============================] - 35s - loss: 0.3118 - acc: 0.8597 - val_loss: 0.3093 - val_acc: 0.8599\n",
      "Epoch 3/200\n",
      "645120/646866 [============================>.] - ETA: 0s - loss: 0.2917 - acc: 0.8693Epoch 00002: val_loss improved from 0.30925 to 0.29044, saving model to /home/yuriyguts/Projects/kaggle-quora-question-pairs/data/tmp/fold-checkpoint-oofp_nn_cnn_with_magic.h5\n",
      "646866/646866 [==============================] - 35s - loss: 0.2917 - acc: 0.8693 - val_loss: 0.2904 - val_acc: 0.8682\n",
      "Epoch 4/200\n",
      "645120/646866 [============================>.] - ETA: 0s - loss: 0.2790 - acc: 0.8762Epoch 00003: val_loss improved from 0.29044 to 0.28157, saving model to /home/yuriyguts/Projects/kaggle-quora-question-pairs/data/tmp/fold-checkpoint-oofp_nn_cnn_with_magic.h5\n",
      "646866/646866 [==============================] - 35s - loss: 0.2791 - acc: 0.8761 - val_loss: 0.2816 - val_acc: 0.8746\n",
      "Epoch 5/200\n",
      "645120/646866 [============================>.] - ETA: 0s - loss: 0.2689 - acc: 0.8810Epoch 00004: val_loss improved from 0.28157 to 0.27513, saving model to /home/yuriyguts/Projects/kaggle-quora-question-pairs/data/tmp/fold-checkpoint-oofp_nn_cnn_with_magic.h5\n",
      "646866/646866 [==============================] - 35s - loss: 0.2690 - acc: 0.8810 - val_loss: 0.2751 - val_acc: 0.8777\n",
      "Epoch 6/200\n",
      "645120/646866 [============================>.] - ETA: 0s - loss: 0.2606 - acc: 0.8848Epoch 00005: val_loss improved from 0.27513 to 0.27183, saving model to /home/yuriyguts/Projects/kaggle-quora-question-pairs/data/tmp/fold-checkpoint-oofp_nn_cnn_with_magic.h5\n",
      "646866/646866 [==============================] - 35s - loss: 0.2605 - acc: 0.8848 - val_loss: 0.2718 - val_acc: 0.8791\n",
      "Epoch 7/200\n",
      "645120/646866 [============================>.] - ETA: 0s - loss: 0.2533 - acc: 0.8885Epoch 00006: val_loss improved from 0.27183 to 0.27021, saving model to /home/yuriyguts/Projects/kaggle-quora-question-pairs/data/tmp/fold-checkpoint-oofp_nn_cnn_with_magic.h5\n",
      "646866/646866 [==============================] - 35s - loss: 0.2532 - acc: 0.8885 - val_loss: 0.2702 - val_acc: 0.8800\n",
      "Epoch 8/200\n",
      "645120/646866 [============================>.] - ETA: 0s - loss: 0.2466 - acc: 0.8915Epoch 00007: val_loss did not improve\n",
      "646866/646866 [==============================] - 34s - loss: 0.2466 - acc: 0.8915 - val_loss: 0.2715 - val_acc: 0.8788\n",
      "Epoch 9/200\n",
      "645120/646866 [============================>.] - ETA: 0s - loss: 0.2413 - acc: 0.8938Epoch 00008: val_loss improved from 0.27021 to 0.26384, saving model to /home/yuriyguts/Projects/kaggle-quora-question-pairs/data/tmp/fold-checkpoint-oofp_nn_cnn_with_magic.h5\n",
      "646866/646866 [==============================] - 35s - loss: 0.2413 - acc: 0.8939 - val_loss: 0.2638 - val_acc: 0.8830\n",
      "Epoch 10/200\n",
      "645120/646866 [============================>.] - ETA: 0s - loss: 0.2355 - acc: 0.8972Epoch 00009: val_loss did not improve\n",
      "646866/646866 [==============================] - 34s - loss: 0.2355 - acc: 0.8972 - val_loss: 0.2657 - val_acc: 0.8819\n",
      "Epoch 11/200\n",
      "645120/646866 [============================>.] - ETA: 0s - loss: 0.2306 - acc: 0.8995Epoch 00010: val_loss did not improve\n",
      "646866/646866 [==============================] - 34s - loss: 0.2306 - acc: 0.8995 - val_loss: 0.2658 - val_acc: 0.8829\n",
      "Epoch 12/200\n",
      "645120/646866 [============================>.] - ETA: 0s - loss: 0.2260 - acc: 0.9017Epoch 00011: val_loss did not improve\n",
      "646866/646866 [==============================] - 34s - loss: 0.2260 - acc: 0.9017 - val_loss: 0.2663 - val_acc: 0.8840\n",
      "Epoch 13/200\n",
      "645120/646866 [============================>.] - ETA: 0s - loss: 0.2218 - acc: 0.9034Epoch 00012: val_loss did not improve\n",
      "646866/646866 [==============================] - 34s - loss: 0.2218 - acc: 0.9034 - val_loss: 0.2716 - val_acc: 0.8832\n",
      "Epoch 00012: early stopping\n"
     ]
    },
    {
     "name": "stdout",
     "output_type": "stream",
     "text": [
      "80857/80857 [==============================] - 1s     \n",
      "2345796/2345796 [==============================] - 38s    \n",
      "2342912/2345796 [============================>.] - ETA: 0s\n",
      "Fitting fold 5 of 5\n",
      "\n",
      "Train on 646866 samples, validate on 161714 samples\n",
      "Epoch 1/200\n",
      "645120/646866 [============================>.] - ETA: 0s - loss: 0.3588 - acc: 0.8420Epoch 00000: val_loss improved from inf to 0.38813, saving model to /home/yuriyguts/Projects/kaggle-quora-question-pairs/data/tmp/fold-checkpoint-oofp_nn_cnn_with_magic.h5\n",
      "646866/646866 [==============================] - 36s - loss: 0.3587 - acc: 0.8421 - val_loss: 0.3881 - val_acc: 0.7911\n",
      "Epoch 2/200\n",
      "645120/646866 [============================>.] - ETA: 0s - loss: 0.3109 - acc: 0.8605Epoch 00001: val_loss improved from 0.38813 to 0.30509, saving model to /home/yuriyguts/Projects/kaggle-quora-question-pairs/data/tmp/fold-checkpoint-oofp_nn_cnn_with_magic.h5\n",
      "646866/646866 [==============================] - 35s - loss: 0.3109 - acc: 0.8605 - val_loss: 0.3051 - val_acc: 0.8650\n",
      "Epoch 3/200\n",
      "645120/646866 [============================>.] - ETA: 0s - loss: 0.2915 - acc: 0.8695Epoch 00002: val_loss improved from 0.30509 to 0.28836, saving model to /home/yuriyguts/Projects/kaggle-quora-question-pairs/data/tmp/fold-checkpoint-oofp_nn_cnn_with_magic.h5\n",
      "646866/646866 [==============================] - 35s - loss: 0.2915 - acc: 0.8695 - val_loss: 0.2884 - val_acc: 0.8711\n",
      "Epoch 4/200\n",
      "645120/646866 [============================>.] - ETA: 0s - loss: 0.2792 - acc: 0.8755Epoch 00003: val_loss improved from 0.28836 to 0.28503, saving model to /home/yuriyguts/Projects/kaggle-quora-question-pairs/data/tmp/fold-checkpoint-oofp_nn_cnn_with_magic.h5\n",
      "646866/646866 [==============================] - 35s - loss: 0.2792 - acc: 0.8755 - val_loss: 0.2850 - val_acc: 0.8725\n",
      "Epoch 5/200\n",
      "645120/646866 [============================>.] - ETA: 0s - loss: 0.2694 - acc: 0.8807Epoch 00004: val_loss improved from 0.28503 to 0.27480, saving model to /home/yuriyguts/Projects/kaggle-quora-question-pairs/data/tmp/fold-checkpoint-oofp_nn_cnn_with_magic.h5\n",
      "646866/646866 [==============================] - 35s - loss: 0.2694 - acc: 0.8807 - val_loss: 0.2748 - val_acc: 0.8785\n",
      "Epoch 6/200\n",
      "645120/646866 [============================>.] - ETA: 0s - loss: 0.2608 - acc: 0.8848Epoch 00005: val_loss did not improve\n",
      "646866/646866 [==============================] - 34s - loss: 0.2608 - acc: 0.8848 - val_loss: 0.2778 - val_acc: 0.8751\n",
      "Epoch 7/200\n",
      "645120/646866 [============================>.] - ETA: 0s - loss: 0.2530 - acc: 0.8882Epoch 00006: val_loss did not improve\n",
      "646866/646866 [==============================] - 34s - loss: 0.2531 - acc: 0.8882 - val_loss: 0.2778 - val_acc: 0.8756\n",
      "Epoch 8/200\n",
      "645120/646866 [============================>.] - ETA: 0s - loss: 0.2471 - acc: 0.8912Epoch 00007: val_loss improved from 0.27480 to 0.27173, saving model to /home/yuriyguts/Projects/kaggle-quora-question-pairs/data/tmp/fold-checkpoint-oofp_nn_cnn_with_magic.h5\n",
      "646866/646866 [==============================] - 35s - loss: 0.2471 - acc: 0.8912 - val_loss: 0.2717 - val_acc: 0.8783\n",
      "Epoch 9/200\n",
      "645120/646866 [============================>.] - ETA: 0s - loss: 0.2413 - acc: 0.8941Epoch 00008: val_loss improved from 0.27173 to 0.26839, saving model to /home/yuriyguts/Projects/kaggle-quora-question-pairs/data/tmp/fold-checkpoint-oofp_nn_cnn_with_magic.h5\n",
      "646866/646866 [==============================] - 35s - loss: 0.2413 - acc: 0.8941 - val_loss: 0.2684 - val_acc: 0.8811\n",
      "Epoch 10/200\n",
      "645120/646866 [============================>.] - ETA: 0s - loss: 0.2361 - acc: 0.8969Epoch 00009: val_loss did not improve\n",
      "646866/646866 [==============================] - 34s - loss: 0.2362 - acc: 0.8968 - val_loss: 0.2718 - val_acc: 0.8774\n",
      "Epoch 11/200\n",
      "645120/646866 [============================>.] - ETA: 0s - loss: 0.2312 - acc: 0.8995Epoch 00010: val_loss improved from 0.26839 to 0.26481, saving model to /home/yuriyguts/Projects/kaggle-quora-question-pairs/data/tmp/fold-checkpoint-oofp_nn_cnn_with_magic.h5\n",
      "646866/646866 [==============================] - 34s - loss: 0.2313 - acc: 0.8995 - val_loss: 0.2648 - val_acc: 0.8823\n",
      "Epoch 12/200\n",
      "645120/646866 [============================>.] - ETA: 0s - loss: 0.2268 - acc: 0.9011Epoch 00011: val_loss did not improve\n",
      "646866/646866 [==============================] - 34s - loss: 0.2268 - acc: 0.9011 - val_loss: 0.2696 - val_acc: 0.8792\n",
      "Epoch 13/200\n",
      "645120/646866 [============================>.] - ETA: 0s - loss: 0.2226 - acc: 0.9028Epoch 00012: val_loss did not improve\n",
      "646866/646866 [==============================] - 34s - loss: 0.2226 - acc: 0.9028 - val_loss: 0.2661 - val_acc: 0.8832\n",
      "Epoch 14/200\n",
      "645120/646866 [============================>.] - ETA: 0s - loss: 0.2181 - acc: 0.9055Epoch 00013: val_loss did not improve\n",
      "646866/646866 [==============================] - 34s - loss: 0.2182 - acc: 0.9055 - val_loss: 0.2735 - val_acc: 0.8777\n",
      "Epoch 15/200\n",
      "645120/646866 [============================>.] - ETA: 0s - loss: 0.2154 - acc: 0.9067Epoch 00014: val_loss did not improve\n",
      "646866/646866 [==============================] - 34s - loss: 0.2154 - acc: 0.9067 - val_loss: 0.2687 - val_acc: 0.8837\n",
      "Epoch 00014: early stopping\n",
      "2345796/2345796 [==============================] - 38s    \n",
      "2342912/2345796 [============================>.] - ETA: 0sCPU times: user 24min 59s, sys: 3min 2s, total: 28min 2s\n",
      "Wall time: 42min 8s\n"
     ]
    }
   ],
   "source": [
    "%%time\n",
    "\n",
    "# Iterate through folds.\n",
    "for fold_num, (ix_train, ix_val) in enumerate(kfold.split(X_train_q1, y_train)):\n",
    "    \n",
    "    # Augment the training set by mirroring the pairs.\n",
    "    X_fold_train_q1 = np.vstack([X_train_q1[ix_train], X_train_q2[ix_train]])\n",
    "    X_fold_train_q2 = np.vstack([X_train_q2[ix_train], X_train_q1[ix_train]])\n",
    "    X_fold_train_magic = np.vstack([X_train_magic[ix_train], X_train_magic[ix_train]])\n",
    "\n",
    "    X_fold_val_q1 = np.vstack([X_train_q1[ix_val], X_train_q2[ix_val]])\n",
    "    X_fold_val_q2 = np.vstack([X_train_q2[ix_val], X_train_q1[ix_val]])\n",
    "    X_fold_val_magic = np.vstack([X_train_magic[ix_val], X_train_magic[ix_val]])\n",
    "\n",
    "    # Ground truth should also be \"mirrored\".\n",
    "    y_fold_train = np.concatenate([y_train[ix_train], y_train[ix_train]])\n",
    "    y_fold_val = np.concatenate([y_train[ix_val], y_train[ix_val]])\n",
    "    \n",
    "    print()\n",
    "    print(f'Fitting fold {fold_num + 1} of {kfold.n_splits}')\n",
    "    print()\n",
    "    \n",
    "    # Compile a new model.\n",
    "    model = create_model(model_params)\n",
    "\n",
    "    # Train.\n",
    "    model.fit(\n",
    "        [X_fold_train_q1, X_fold_train_q2, X_fold_train_magic], y_fold_train,\n",
    "        validation_data=([X_fold_val_q1, X_fold_val_q2, X_fold_val_magic], y_fold_val),\n",
    "\n",
    "        batch_size=BATCH_SIZE,\n",
    "        epochs=MAX_EPOCHS,\n",
    "        verbose=1,\n",
    "        \n",
    "        callbacks=[\n",
    "            # Stop training when the validation loss stops improving.\n",
    "            EarlyStopping(\n",
    "                monitor='val_loss',\n",
    "                min_delta=0.001,\n",
    "                patience=3,\n",
    "                verbose=1,\n",
    "                mode='auto',\n",
    "            ),\n",
    "            # Save the weights of the best epoch.\n",
    "            ModelCheckpoint(\n",
    "                model_checkpoint_path,\n",
    "                monitor='val_loss',\n",
    "                save_best_only=True,\n",
    "                verbose=2,\n",
    "            ),\n",
    "        ],\n",
    "    )\n",
    "        \n",
    "    # Restore the best epoch.\n",
    "    model.load_weights(model_checkpoint_path)\n",
    "    \n",
    "    # Compute out-of-fold predictions.\n",
    "    y_train_oofp[ix_val] = predict(model, X_train_q1[ix_val], X_train_q2[ix_val], X_train_magic[ix_val])\n",
    "    y_test_oofp[:, fold_num] = predict(model, X_test_q1, X_test_q2, X_test_magic)\n",
    "    \n",
    "    # Clear GPU memory.\n",
    "    K.clear_session()\n",
    "    del X_fold_train_q1\n",
    "    del X_fold_train_q2\n",
    "    del X_fold_val_q1\n",
    "    del X_fold_val_q2\n",
    "    del model\n",
    "    gc.collect()"
   ]
  },
  {
   "cell_type": "code",
   "execution_count": 36,
   "metadata": {},
   "outputs": [
    {
     "name": "stdout",
     "output_type": "stream",
     "text": [
      "CV score: 0.264377776985\n"
     ]
    }
   ],
   "source": [
    "cv_score = log_loss(y_train, y_train_oofp)\n",
    "print('CV score:', cv_score)"
   ]
  },
  {
   "cell_type": "markdown",
   "metadata": {},
   "source": [
    "## Save features"
   ]
  },
  {
   "cell_type": "code",
   "execution_count": 37,
   "metadata": {
    "collapsed": true
   },
   "outputs": [],
   "source": [
    "feature_names = [feature_list_id]"
   ]
  },
  {
   "cell_type": "code",
   "execution_count": 38,
   "metadata": {
    "collapsed": true
   },
   "outputs": [],
   "source": [
    "features_train = y_train_oofp.reshape((-1, 1))"
   ]
  },
  {
   "cell_type": "code",
   "execution_count": 39,
   "metadata": {
    "collapsed": true
   },
   "outputs": [],
   "source": [
    "features_test = np.mean(y_test_oofp, axis=1).reshape((-1, 1))"
   ]
  },
  {
   "cell_type": "code",
   "execution_count": 40,
   "metadata": {
    "collapsed": true
   },
   "outputs": [],
   "source": [
    "project.save_features(features_train, features_test, feature_names, feature_list_id)"
   ]
  },
  {
   "cell_type": "markdown",
   "metadata": {},
   "source": [
    "## Explore"
   ]
  },
  {
   "cell_type": "code",
   "execution_count": 41,
   "metadata": {},
   "outputs": [
    {
     "data": {
      "text/plain": [
       "<matplotlib.axes._subplots.AxesSubplot at 0x7fe999025c50>"
      ]
     },
     "execution_count": 41,
     "metadata": {},
     "output_type": "execute_result"
    },
    {
     "data": {
      "image/png": "[encoded data removed]",
      "text/plain": [
       "<matplotlib.figure.Figure at 0x7fe9990253c8>"
      ]
     },
     "metadata": {},
     "output_type": "display_data"
    }
   ],
   "source": [
    "pd.DataFrame(features_test).plot.hist()"
   ]
  }
 ],
 "metadata": {
  "kernelspec": {
   "display_name": "Python 3",
   "language": "python",
   "name": "python3"
  },
  "language_info": {
   "codemirror_mode": {
    "name": "ipython",
    "version": 3
   },
   "file_extension": ".py",
   "mimetype": "text/x-python",
   "name": "python",
   "nbconvert_exporter": "python",
   "pygments_lexer": "ipython3",
   "version": "3.6.1"
  }
 },
 "nbformat": 4,
 "nbformat_minor": 2
}
